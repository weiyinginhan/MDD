{
 "cells": [
  {
   "cell_type": "code",
   "execution_count": 1,
   "id": "4c21fba7",
   "metadata": {},
   "outputs": [
    {
     "name": "stdout",
     "output_type": "stream",
     "text": [
      "Requirement already satisfied: autogenstudio in ./anaconda3/lib/python3.11/site-packages (0.0.56)\n",
      "Requirement already satisfied: pydantic in ./anaconda3/lib/python3.11/site-packages (from autogenstudio) (1.10.8)\n",
      "Requirement already satisfied: fastapi in ./anaconda3/lib/python3.11/site-packages (from autogenstudio) (0.111.0)\n",
      "Requirement already satisfied: typer in ./anaconda3/lib/python3.11/site-packages (from autogenstudio) (0.12.3)\n",
      "Requirement already satisfied: uvicorn in ./anaconda3/lib/python3.11/site-packages (from autogenstudio) (0.29.0)\n",
      "Requirement already satisfied: arxiv in ./anaconda3/lib/python3.11/site-packages (from autogenstudio) (2.1.0)\n",
      "Requirement already satisfied: pyautogen>=0.2.0 in ./anaconda3/lib/python3.11/site-packages (from autogenstudio) (0.2.27)\n",
      "Requirement already satisfied: python-dotenv in ./anaconda3/lib/python3.11/site-packages (from autogenstudio) (0.21.0)\n",
      "Requirement already satisfied: websockets in ./anaconda3/lib/python3.11/site-packages (from autogenstudio) (10.4)\n",
      "Requirement already satisfied: numpy<2.0.0 in ./anaconda3/lib/python3.11/site-packages (from autogenstudio) (1.24.3)\n",
      "Requirement already satisfied: diskcache in ./anaconda3/lib/python3.11/site-packages (from pyautogen>=0.2.0->autogenstudio) (5.6.3)\n",
      "Requirement already satisfied: docker in ./anaconda3/lib/python3.11/site-packages (from pyautogen>=0.2.0->autogenstudio) (7.1.0)\n",
      "Requirement already satisfied: flaml in ./anaconda3/lib/python3.11/site-packages (from pyautogen>=0.2.0->autogenstudio) (2.1.2)\n",
      "Requirement already satisfied: openai>=1.3 in ./anaconda3/lib/python3.11/site-packages (from pyautogen>=0.2.0->autogenstudio) (1.30.5)\n",
      "Requirement already satisfied: termcolor in ./anaconda3/lib/python3.11/site-packages (from pyautogen>=0.2.0->autogenstudio) (2.4.0)\n",
      "Requirement already satisfied: tiktoken in ./anaconda3/lib/python3.11/site-packages (from pyautogen>=0.2.0->autogenstudio) (0.7.0)\n",
      "Requirement already satisfied: typing-extensions>=4.2.0 in ./anaconda3/lib/python3.11/site-packages (from pydantic->autogenstudio) (4.12.0)\n",
      "Requirement already satisfied: feedparser==6.0.10 in ./anaconda3/lib/python3.11/site-packages (from arxiv->autogenstudio) (6.0.10)\n",
      "Requirement already satisfied: requests==2.31.0 in ./anaconda3/lib/python3.11/site-packages (from arxiv->autogenstudio) (2.31.0)\n",
      "Requirement already satisfied: sgmllib3k in ./anaconda3/lib/python3.11/site-packages (from feedparser==6.0.10->arxiv->autogenstudio) (1.0.0)\n",
      "Requirement already satisfied: charset-normalizer<4,>=2 in ./anaconda3/lib/python3.11/site-packages (from requests==2.31.0->arxiv->autogenstudio) (2.0.4)\n",
      "Requirement already satisfied: idna<4,>=2.5 in ./anaconda3/lib/python3.11/site-packages (from requests==2.31.0->arxiv->autogenstudio) (3.4)\n",
      "Requirement already satisfied: urllib3<3,>=1.21.1 in ./anaconda3/lib/python3.11/site-packages (from requests==2.31.0->arxiv->autogenstudio) (1.26.16)\n",
      "Requirement already satisfied: certifi>=2017.4.17 in ./anaconda3/lib/python3.11/site-packages (from requests==2.31.0->arxiv->autogenstudio) (2023.11.17)\n",
      "Requirement already satisfied: starlette<0.38.0,>=0.37.2 in ./anaconda3/lib/python3.11/site-packages (from fastapi->autogenstudio) (0.37.2)\n",
      "Requirement already satisfied: fastapi-cli>=0.0.2 in ./anaconda3/lib/python3.11/site-packages (from fastapi->autogenstudio) (0.0.4)\n",
      "Requirement already satisfied: httpx>=0.23.0 in ./anaconda3/lib/python3.11/site-packages (from fastapi->autogenstudio) (0.27.0)\n",
      "Requirement already satisfied: jinja2>=2.11.2 in ./anaconda3/lib/python3.11/site-packages (from fastapi->autogenstudio) (3.1.2)\n",
      "Requirement already satisfied: python-multipart>=0.0.7 in ./anaconda3/lib/python3.11/site-packages (from fastapi->autogenstudio) (0.0.9)\n",
      "Requirement already satisfied: ujson!=4.0.2,!=4.1.0,!=4.2.0,!=4.3.0,!=5.0.0,!=5.1.0,>=4.0.1 in ./anaconda3/lib/python3.11/site-packages (from fastapi->autogenstudio) (5.4.0)\n",
      "Requirement already satisfied: orjson>=3.2.1 in ./anaconda3/lib/python3.11/site-packages (from fastapi->autogenstudio) (3.10.3)\n",
      "Requirement already satisfied: email_validator>=2.0.0 in ./anaconda3/lib/python3.11/site-packages (from fastapi->autogenstudio) (2.1.1)\n",
      "Requirement already satisfied: click>=8.0.0 in ./anaconda3/lib/python3.11/site-packages (from typer->autogenstudio) (8.1.7)\n",
      "Requirement already satisfied: shellingham>=1.3.0 in ./anaconda3/lib/python3.11/site-packages (from typer->autogenstudio) (1.5.4)\n",
      "Requirement already satisfied: rich>=10.11.0 in ./anaconda3/lib/python3.11/site-packages (from typer->autogenstudio) (13.7.1)\n",
      "Requirement already satisfied: h11>=0.8 in ./anaconda3/lib/python3.11/site-packages (from uvicorn->autogenstudio) (0.14.0)\n",
      "Requirement already satisfied: dnspython>=2.0.0 in ./anaconda3/lib/python3.11/site-packages (from email_validator>=2.0.0->fastapi->autogenstudio) (2.6.1)\n",
      "Requirement already satisfied: anyio in ./anaconda3/lib/python3.11/site-packages (from httpx>=0.23.0->fastapi->autogenstudio) (3.5.0)\n",
      "Requirement already satisfied: httpcore==1.* in ./anaconda3/lib/python3.11/site-packages (from httpx>=0.23.0->fastapi->autogenstudio) (1.0.5)\n",
      "Requirement already satisfied: sniffio in ./anaconda3/lib/python3.11/site-packages (from httpx>=0.23.0->fastapi->autogenstudio) (1.2.0)\n",
      "Requirement already satisfied: MarkupSafe>=2.0 in ./anaconda3/lib/python3.11/site-packages (from jinja2>=2.11.2->fastapi->autogenstudio) (2.1.1)\n",
      "Requirement already satisfied: distro<2,>=1.7.0 in ./anaconda3/lib/python3.11/site-packages (from openai>=1.3->pyautogen>=0.2.0->autogenstudio) (1.9.0)\n",
      "Requirement already satisfied: tqdm>4 in ./anaconda3/lib/python3.11/site-packages (from openai>=1.3->pyautogen>=0.2.0->autogenstudio) (4.65.0)\n",
      "Requirement already satisfied: markdown-it-py>=2.2.0 in ./anaconda3/lib/python3.11/site-packages (from rich>=10.11.0->typer->autogenstudio) (2.2.0)\n",
      "Requirement already satisfied: pygments<3.0.0,>=2.13.0 in ./anaconda3/lib/python3.11/site-packages (from rich>=10.11.0->typer->autogenstudio) (2.15.1)\n",
      "Requirement already satisfied: httptools>=0.5.0 in ./anaconda3/lib/python3.11/site-packages (from uvicorn->autogenstudio) (0.6.1)\n",
      "Requirement already satisfied: pyyaml>=5.1 in ./anaconda3/lib/python3.11/site-packages (from uvicorn->autogenstudio) (6.0)\n",
      "Requirement already satisfied: uvloop!=0.15.0,!=0.15.1,>=0.14.0 in ./anaconda3/lib/python3.11/site-packages (from uvicorn->autogenstudio) (0.19.0)\n",
      "Requirement already satisfied: watchfiles>=0.13 in ./anaconda3/lib/python3.11/site-packages (from uvicorn->autogenstudio) (0.21.0)\n",
      "Requirement already satisfied: regex>=2022.1.18 in ./anaconda3/lib/python3.11/site-packages (from tiktoken->pyautogen>=0.2.0->autogenstudio) (2022.7.9)\n",
      "Requirement already satisfied: mdurl~=0.1 in ./anaconda3/lib/python3.11/site-packages (from markdown-it-py>=2.2.0->rich>=10.11.0->typer->autogenstudio) (0.1.0)\n"
     ]
    },
    {
     "ename": "ImportError",
     "evalue": "cannot import name 'config_list_from_json' from 'autogen' (/Users/gongweiying/anaconda3/lib/python3.11/site-packages/autogen/__init__.py)",
     "output_type": "error",
     "traceback": [
      "\u001b[0;31m---------------------------------------------------------------------------\u001b[0m",
      "\u001b[0;31mImportError\u001b[0m                               Traceback (most recent call last)",
      "Cell \u001b[0;32mIn[1], line 11\u001b[0m\n\u001b[1;32m      8\u001b[0m \u001b[38;5;28;01mimport\u001b[39;00m \u001b[38;5;21;01myfinance\u001b[39;00m \u001b[38;5;28;01mas\u001b[39;00m \u001b[38;5;21;01myf\u001b[39;00m\n\u001b[1;32m      9\u001b[0m \u001b[38;5;28;01mimport\u001b[39;00m \u001b[38;5;21;01msys\u001b[39;00m\n\u001b[0;32m---> 11\u001b[0m \u001b[38;5;28;01mfrom\u001b[39;00m \u001b[38;5;21;01mautogen\u001b[39;00m \u001b[38;5;28;01mimport\u001b[39;00m config_list_from_json\n\u001b[1;32m     12\u001b[0m \u001b[38;5;28;01mfrom\u001b[39;00m \u001b[38;5;21;01mautogen\u001b[39;00m \u001b[38;5;28;01mimport\u001b[39;00m AssistantAgent, UserProxyAgent\n\u001b[1;32m     13\u001b[0m \u001b[38;5;28;01mfrom\u001b[39;00m \u001b[38;5;21;01mdotenv\u001b[39;00m \u001b[38;5;28;01mimport\u001b[39;00m load_dotenv\n",
      "\u001b[0;31mImportError\u001b[0m: cannot import name 'config_list_from_json' from 'autogen' (/Users/gongweiying/anaconda3/lib/python3.11/site-packages/autogen/__init__.py)"
     ]
    }
   ],
   "source": [
    "!pip install autogenstudio\n",
    "import autogen\n",
    "import datetime\n",
    "import openai\n",
    "import os\n",
    "import pandas as pd\n",
    "import requests\n",
    "import yfinance as yf\n",
    "import sys\n",
    "\n",
    "from autogen import config_list_from_json\n",
    "from autogen import AssistantAgent, UserProxyAgent\n",
    "from dotenv import load_dotenv"
   ]
  },
  {
   "cell_type": "code",
   "execution_count": 2,
   "id": "2c314d4c",
   "metadata": {},
   "outputs": [
    {
     "name": "stdout",
     "output_type": "stream",
     "text": [
      "Today is 09-Jun-2024 20:30:01\n"
     ]
    }
   ],
   "source": [
    "print(f\"Today is {datetime.datetime.today().strftime('%d-%b-%Y %H:%M:%S')}\")"
   ]
  },
  {
   "cell_type": "code",
   "execution_count": 5,
   "id": "a5266ff2",
   "metadata": {},
   "outputs": [],
   "source": [
    "import openai\n",
    "import os\n",
    "\n",
    "from dotenv import load_dotenv, find_dotenv\n",
    "_ = load_dotenv(find_dotenv())\n",
    "\n",
    "openai.api_key  = os.getenv('OPENAI_API_KEY')"
   ]
  },
  {
   "cell_type": "code",
   "execution_count": 6,
   "id": "e9319abe",
   "metadata": {},
   "outputs": [
    {
     "ename": "AttributeError",
     "evalue": "module 'autogen' has no attribute 'AssistantAgent'",
     "output_type": "error",
     "traceback": [
      "\u001b[0;31m---------------------------------------------------------------------------\u001b[0m",
      "\u001b[0;31mAttributeError\u001b[0m                            Traceback (most recent call last)",
      "Cell \u001b[0;32mIn[6], line 5\u001b[0m\n\u001b[1;32m      1\u001b[0m llm_config \u001b[38;5;241m=\u001b[39m {\n\u001b[1;32m      2\u001b[0m     \u001b[38;5;124m\"\u001b[39m\u001b[38;5;124mconfig_list\u001b[39m\u001b[38;5;124m\"\u001b[39m: [{\u001b[38;5;124m\"\u001b[39m\u001b[38;5;124mmodel\u001b[39m\u001b[38;5;124m\"\u001b[39m: \u001b[38;5;124m\"\u001b[39m\u001b[38;5;124mgpt-4\u001b[39m\u001b[38;5;124m\"\u001b[39m, \u001b[38;5;124m\"\u001b[39m\u001b[38;5;124mapi_key\u001b[39m\u001b[38;5;124m\"\u001b[39m: os\u001b[38;5;241m.\u001b[39menviron[\u001b[38;5;124m\"\u001b[39m\u001b[38;5;124mOPENAI_API_KEY\u001b[39m\u001b[38;5;124m\"\u001b[39m]}],\n\u001b[1;32m      3\u001b[0m }\n\u001b[0;32m----> 5\u001b[0m assistant \u001b[38;5;241m=\u001b[39m autogen\u001b[38;5;241m.\u001b[39mAssistantAgent(name\u001b[38;5;241m=\u001b[39m\u001b[38;5;124m\"\u001b[39m\u001b[38;5;124massistant\u001b[39m\u001b[38;5;124m\"\u001b[39m, llm_config\u001b[38;5;241m=\u001b[39mllm_config)\n",
      "\u001b[0;31mAttributeError\u001b[0m: module 'autogen' has no attribute 'AssistantAgent'"
     ]
    }
   ],
   "source": [
    "llm_config = {\n",
    "    \"config_list\": [{\"model\": \"gpt-4\", \"api_key\": os.environ[\"OPENAI_API_KEY\"]}],\n",
    "}\n",
    "\n",
    "assistant = autogen.AssistantAgent(name=\"assistant\", llm_config=llm_config)"
   ]
  },
  {
   "cell_type": "code",
   "execution_count": 5,
   "id": "499062f8",
   "metadata": {},
   "outputs": [
    {
     "name": "stdout",
     "output_type": "stream",
     "text": [
      "AutoGenStudio UI started on port 8081 with PID: 10270\n"
     ]
    },
    {
     "name": "stderr",
     "output_type": "stream",
     "text": [
      "Traceback (most recent call last):\n",
      "  File \"/Users/gongweiying/anaconda3/bin/autogenstudio\", line 5, in <module>\n",
      "    from autogenstudio.cli import run\n",
      "  File \"/Users/gongweiying/anaconda3/lib/python3.11/site-packages/autogenstudio/__init__.py\", line 1, in <module>\n",
      "    from .chatmanager import *\n",
      "  File \"/Users/gongweiying/anaconda3/lib/python3.11/site-packages/autogenstudio/chatmanager.py\", line 12, in <module>\n",
      "    from .workflowmanager import AutoGenWorkFlowManager\n",
      "  File \"/Users/gongweiying/anaconda3/lib/python3.11/site-packages/autogenstudio/workflowmanager.py\", line 19, in <module>\n",
      "    class AutoGenWorkFlowManager:\n",
      "  File \"/Users/gongweiying/anaconda3/lib/python3.11/site-packages/autogenstudio/workflowmanager.py\", line 62, in AutoGenWorkFlowManager\n",
      "    sender: autogen.Agent,\n",
      "            ^^^^^^^^^^^^^\n",
      "AttributeError: module 'autogen' has no attribute 'Agent'\n"
     ]
    }
   ],
   "source": [
    "import subprocess\n",
    "\n",
    "def start_autogenstudio_ui(port):\n",
    "    try:\n",
    "        # Construct the command to start AutoGenStudio UI on the specified port\n",
    "        command = [\"autogenstudio\", \"ui\", \"--port\", str(port)]\n",
    "        \n",
    "        # Use subprocess to run the command\n",
    "        process = subprocess.Popen(command)\n",
    "        \n",
    "        # Print the process ID for reference\n",
    "        print(f\"AutoGenStudio UI started on port {port} with PID: {process.pid}\")\n",
    "        \n",
    "    except Exception as e:\n",
    "        print(f\"An error occurred: {e}\")\n",
    "\n",
    "# Start AutoGenStudio UI on port 8081\n",
    "start_autogenstudio_ui(8081)"
   ]
  },
  {
   "cell_type": "code",
   "execution_count": null,
   "id": "586274be",
   "metadata": {},
   "outputs": [],
   "source": []
  },
  {
   "cell_type": "code",
   "execution_count": 6,
   "id": "84eb7aed",
   "metadata": {},
   "outputs": [
    {
     "name": "stdout",
     "output_type": "stream",
     "text": [
      "[{'model': 'gpt-4'}, {'model': 'gpt-4-0314'}, {'model': 'gpt-4-32k'}]\n"
     ]
    }
   ],
   "source": [
    "import os\n",
    "import json\n",
    "\n",
    "# Set the environment variable in the Python script\n",
    "os.environ['OAI_CONFIG_LIST'] = '[{\"model\": \"gpt-4\"}, {\"model\": \"gpt-4-0314\"}, {\"model\": \"gpt-4-32k\"}]'\n",
    "\n",
    "def config_list_from_json(env_or_file, file_location=None, filter_dict=None):\n",
    "    # Attempt to load the configuration from an environment variable\n",
    "    config_json = os.getenv(env_or_file)\n",
    "    \n",
    "    if config_json:\n",
    "        try:\n",
    "            config_list = json.loads(config_json)\n",
    "        except json.JSONDecodeError as e:\n",
    "            raise ValueError(f\"Invalid JSON in environment variable {env_or_file}: {e}\")\n",
    "    else:\n",
    "        # If the environment variable is not set, try to read from a file\n",
    "        if file_location:\n",
    "            try:\n",
    "                with open(os.path.join(file_location, env_or_file), 'r') as file:\n",
    "                    config_list = json.load(file)\n",
    "            except FileNotFoundError:\n",
    "                raise FileNotFoundError(f\"Configuration file not found: {os.path.join(file_location, env_or_file)}\")\n",
    "            except json.JSONDecodeError as e:\n",
    "                raise ValueError(f\"Invalid JSON in file {os.path.join(file_location, env_or_file)}: {e}\")\n",
    "        else:\n",
    "            raise ValueError(f\"Neither environment variable nor file location provided for configuration: {env_or_file}\")\n",
    "    \n",
    "    # Filter the configuration list if a filter_dict is provided\n",
    "    if filter_dict:\n",
    "        for key, values in filter_dict.items():\n",
    "            config_list = [item for item in config_list if item.get(key) in values]\n",
    "    \n",
    "    return config_list\n",
    "\n",
    "# Example usage\n",
    "try:\n",
    "    config = config_list_from_json(\n",
    "        \"OAI_CONFIG_LIST\",\n",
    "        file_location=\"./\",\n",
    "        filter_dict={\n",
    "            \"model\": [\n",
    "                \"gpt-4\",\n",
    "                \"gpt-4-0314\",\n",
    "                \"gpt4\",\n",
    "                \"gpt-4-32k\",\n",
    "                \"gpt-4-32k-0314\",\n",
    "                \"gpt-4-32k-v0314\",\n",
    "            ],\n",
    "        }\n",
    "    )\n",
    "    print(config)\n",
    "except Exception as e:\n",
    "    print(e)"
   ]
  },
  {
   "cell_type": "code",
   "execution_count": null,
   "id": "fc404e06",
   "metadata": {},
   "outputs": [],
   "source": []
  },
  {
   "cell_type": "code",
   "execution_count": 7,
   "id": "6e1b7f52",
   "metadata": {},
   "outputs": [],
   "source": [
    "def is_termination_msg(data):\n",
    "    \"\"\"\n",
    "    Check TERMINATE message\n",
    "    \"\"\"\n",
    "    has_content = \"content\" in data and data[\"content\"] is not None\n",
    "\n",
    "    return has_content and \"TERMINATE\" in data[\"content\"]"
   ]
  },
  {
   "cell_type": "code",
   "execution_count": 8,
   "id": "75727116",
   "metadata": {},
   "outputs": [],
   "source": [
    "def get_prices_for_symbol(symbol: str, days: int) -> pd.DataFrame:\n",
    "    \"\"\"\n",
    "    Get dataframe from stocks prices\n",
    "    \"\"\"\n",
    "    end_date = pd.Timestamp.now()\n",
    "    start_date = end_date - pd.DateOffset(days=days)\n",
    "    df = yf.download(symbol, start=start_date, end=end_date)\n",
    "\n",
    "    df.reset_index(inplace=True)\n",
    "    df = df[[\"Date\", \"Open\", \"High\", \"Low\", \"Close\", \"Volume\"]]\n",
    "\n",
    "    return df"
   ]
  },
  {
   "cell_type": "code",
   "execution_count": 9,
   "id": "5ab99faf",
   "metadata": {},
   "outputs": [],
   "source": [
    "def get_prices(days: int, symbol: str) -> str:\n",
    "    \"\"\"\n",
    "    Get prices\n",
    "    \"\"\"\n",
    "    symbol_df = get_prices_for_symbol(symbol, days)\n",
    "\n",
    "    symbol_txt = symbol_df.to_string(index=None)\n",
    "    return f\"\"\"\n",
    "    \n",
    "{symbol_txt}\n",
    "    \"\"\".strip()"
   ]
  },
  {
   "cell_type": "code",
   "execution_count": 10,
   "id": "55c96ed0",
   "metadata": {},
   "outputs": [
    {
     "ename": "NameError",
     "evalue": "name 'config_list' is not defined",
     "output_type": "error",
     "traceback": [
      "\u001b[0;31m---------------------------------------------------------------------------\u001b[0m",
      "\u001b[0;31mNameError\u001b[0m                                 Traceback (most recent call last)",
      "Cell \u001b[0;32mIn[10], line 2\u001b[0m\n\u001b[1;32m      1\u001b[0m llm_config \u001b[38;5;241m=\u001b[39m {\n\u001b[0;32m----> 2\u001b[0m     \u001b[38;5;124m\"\u001b[39m\u001b[38;5;124mconfig_list\u001b[39m\u001b[38;5;124m\"\u001b[39m: config_list,\n\u001b[1;32m      3\u001b[0m     \u001b[38;5;124m\"\u001b[39m\u001b[38;5;124muse_cache\u001b[39m\u001b[38;5;124m\"\u001b[39m: \u001b[38;5;28;01mFalse\u001b[39;00m,\n\u001b[1;32m      4\u001b[0m     \u001b[38;5;124m\"\u001b[39m\u001b[38;5;124mtemperature\u001b[39m\u001b[38;5;124m\"\u001b[39m: \u001b[38;5;241m0\u001b[39m,\n\u001b[1;32m      5\u001b[0m     \u001b[38;5;124m\"\u001b[39m\u001b[38;5;124mrequest_timeout\u001b[39m\u001b[38;5;124m\"\u001b[39m: \u001b[38;5;241m120\u001b[39m,\n\u001b[1;32m      6\u001b[0m     \u001b[38;5;124m\"\u001b[39m\u001b[38;5;124mfunctions\u001b[39m\u001b[38;5;124m\"\u001b[39m: [\n\u001b[1;32m      7\u001b[0m         {\n\u001b[1;32m      8\u001b[0m             \u001b[38;5;124m\"\u001b[39m\u001b[38;5;124mname\u001b[39m\u001b[38;5;124m\"\u001b[39m: \u001b[38;5;124m\"\u001b[39m\u001b[38;5;124mget_prices\u001b[39m\u001b[38;5;124m\"\u001b[39m,\n\u001b[1;32m      9\u001b[0m             \u001b[38;5;124m\"\u001b[39m\u001b[38;5;124mdescription\u001b[39m\u001b[38;5;124m\"\u001b[39m: \u001b[38;5;124m\"\u001b[39m\u001b[38;5;124mGet daily stock prices\u001b[39m\u001b[38;5;124m\"\u001b[39m,\n\u001b[1;32m     10\u001b[0m             \u001b[38;5;124m\"\u001b[39m\u001b[38;5;124mparameters\u001b[39m\u001b[38;5;124m\"\u001b[39m: {\n\u001b[1;32m     11\u001b[0m                 \u001b[38;5;124m\"\u001b[39m\u001b[38;5;124mtype\u001b[39m\u001b[38;5;124m\"\u001b[39m: \u001b[38;5;124m\"\u001b[39m\u001b[38;5;124mobject\u001b[39m\u001b[38;5;124m\"\u001b[39m,\n\u001b[1;32m     12\u001b[0m                 \u001b[38;5;124m\"\u001b[39m\u001b[38;5;124mproperties\u001b[39m\u001b[38;5;124m\"\u001b[39m: {\n\u001b[1;32m     13\u001b[0m                     \u001b[38;5;124m\"\u001b[39m\u001b[38;5;124mdays\u001b[39m\u001b[38;5;124m\"\u001b[39m: {\u001b[38;5;124m\"\u001b[39m\u001b[38;5;124mtype\u001b[39m\u001b[38;5;124m\"\u001b[39m: \u001b[38;5;124m\"\u001b[39m\u001b[38;5;124minteger\u001b[39m\u001b[38;5;124m\"\u001b[39m, \u001b[38;5;124m\"\u001b[39m\u001b[38;5;124mdescription\u001b[39m\u001b[38;5;124m\"\u001b[39m: \u001b[38;5;124m\"\u001b[39m\u001b[38;5;124mdays\u001b[39m\u001b[38;5;124m\"\u001b[39m},\n\u001b[1;32m     14\u001b[0m                     \u001b[38;5;124m\"\u001b[39m\u001b[38;5;124msymbol\u001b[39m\u001b[38;5;124m\"\u001b[39m: {\u001b[38;5;124m\"\u001b[39m\u001b[38;5;124mtype\u001b[39m\u001b[38;5;124m\"\u001b[39m: \u001b[38;5;124m\"\u001b[39m\u001b[38;5;124mstring\u001b[39m\u001b[38;5;124m\"\u001b[39m, \u001b[38;5;124m\"\u001b[39m\u001b[38;5;124mdescription\u001b[39m\u001b[38;5;124m\"\u001b[39m: \u001b[38;5;124m\"\u001b[39m\u001b[38;5;124msymbol\u001b[39m\u001b[38;5;124m\"\u001b[39m},\n\u001b[1;32m     15\u001b[0m                 },\n\u001b[1;32m     16\u001b[0m                 \u001b[38;5;124m\"\u001b[39m\u001b[38;5;124mrequired\u001b[39m\u001b[38;5;124m\"\u001b[39m: [\u001b[38;5;124m\"\u001b[39m\u001b[38;5;124mdays\u001b[39m\u001b[38;5;124m\"\u001b[39m, \u001b[38;5;124m\"\u001b[39m\u001b[38;5;124msymbol\u001b[39m\u001b[38;5;124m\"\u001b[39m],\n\u001b[1;32m     17\u001b[0m             },\n\u001b[1;32m     18\u001b[0m         }\n\u001b[1;32m     19\u001b[0m     ],\n\u001b[1;32m     20\u001b[0m }\n",
      "\u001b[0;31mNameError\u001b[0m: name 'config_list' is not defined"
     ]
    }
   ],
   "source": [
    "llm_config = {\n",
    "    \"config_list\": config_list,\n",
    "    \"use_cache\": False,\n",
    "    \"temperature\": 0,\n",
    "    \"request_timeout\": 120,\n",
    "    \"functions\": [\n",
    "        {\n",
    "            \"name\": \"get_prices\",\n",
    "            \"description\": \"Get daily stock prices\",\n",
    "            \"parameters\": {\n",
    "                \"type\": \"object\",\n",
    "                \"properties\": {\n",
    "                    \"days\": {\"type\": \"integer\", \"description\": \"days\"},\n",
    "                    \"symbol\": {\"type\": \"string\", \"description\": \"symbol\"},\n",
    "                },\n",
    "                \"required\": [\"days\", \"symbol\"],\n",
    "            },\n",
    "        }\n",
    "    ],\n",
    "}"
   ]
  },
  {
   "cell_type": "code",
   "execution_count": null,
   "id": "8e345db9",
   "metadata": {},
   "outputs": [],
   "source": []
  },
  {
   "cell_type": "code",
   "execution_count": 11,
   "id": "fcf360a2",
   "metadata": {},
   "outputs": [
    {
     "ename": "NameError",
     "evalue": "name 'AssistantAgent' is not defined",
     "output_type": "error",
     "traceback": [
      "\u001b[0;31m---------------------------------------------------------------------------\u001b[0m",
      "\u001b[0;31mNameError\u001b[0m                                 Traceback (most recent call last)",
      "Cell \u001b[0;32mIn[11], line 15\u001b[0m\n\u001b[1;32m      1\u001b[0m analyst_msg \u001b[38;5;241m=\u001b[39m \u001b[38;5;124mf\u001b[39m\u001b[38;5;124m\"\"\"\u001b[39m\n\u001b[1;32m      2\u001b[0m \u001b[38;5;124mFinancial Analyst: You are a Senior Financial Analyst responsible for a stock price indicator.\u001b[39m\n\u001b[1;32m      3\u001b[0m \n\u001b[0;32m   (...)\u001b[0m\n\u001b[1;32m     11\u001b[0m \u001b[38;5;124mUpon successful completion of the plan, add \u001b[39m\u001b[38;5;124m\"\u001b[39m\u001b[38;5;124mTERMINATE\u001b[39m\u001b[38;5;124m\"\u001b[39m\u001b[38;5;124m to conclude the message.\u001b[39m\n\u001b[1;32m     12\u001b[0m \u001b[38;5;124m\"\"\"\u001b[39m\n\u001b[0;32m---> 15\u001b[0m analyst \u001b[38;5;241m=\u001b[39m AssistantAgent(\n\u001b[1;32m     16\u001b[0m     name\u001b[38;5;241m=\u001b[39m\u001b[38;5;124m\"\u001b[39m\u001b[38;5;124manalyst_person\u001b[39m\u001b[38;5;124m\"\u001b[39m,\n\u001b[1;32m     17\u001b[0m     system_message\u001b[38;5;241m=\u001b[39manalyst_msg,\n\u001b[1;32m     18\u001b[0m     llm_config\u001b[38;5;241m=\u001b[39mllm_config,\n\u001b[1;32m     19\u001b[0m     is_termination_msg\u001b[38;5;241m=\u001b[39mis_termination_msg,\n\u001b[1;32m     20\u001b[0m     code_execution_config\u001b[38;5;241m=\u001b[39m\u001b[38;5;28;01mFalse\u001b[39;00m,\n\u001b[1;32m     21\u001b[0m )\n",
      "\u001b[0;31mNameError\u001b[0m: name 'AssistantAgent' is not defined"
     ]
    }
   ],
   "source": [
    "analyst_msg = f\"\"\"\n",
    "Financial Analyst: You are a Senior Financial Analyst responsible for a stock price indicator.\n",
    "\n",
    "Follow the plan:\n",
    "1. Obtain stock price data from the engineer.\n",
    "2. Analyze the stock price data, provide financial comments, and pass it to the Python designer for chart creation.\n",
    "3. Upon receiving the code from the Python designer along with the complete dataset, if it's not provided, kindly \n",
    "request the Python designer to provide the missing data.\n",
    "4. Please include the closing prices only for the python chart.\n",
    "\n",
    "Upon successful completion of the plan, add \"TERMINATE\" to conclude the message.\n",
    "\"\"\"\n",
    "\n",
    "\n",
    "analyst = AssistantAgent(\n",
    "    name=\"analyst_person\",\n",
    "    system_message=analyst_msg,\n",
    "    llm_config=llm_config,\n",
    "    is_termination_msg=is_termination_msg,\n",
    "    code_execution_config=False,\n",
    ")"
   ]
  },
  {
   "cell_type": "code",
   "execution_count": 12,
   "id": "ef38b95f",
   "metadata": {},
   "outputs": [
    {
     "ename": "NameError",
     "evalue": "name 'analyst' is not defined",
     "output_type": "error",
     "traceback": [
      "\u001b[0;31m---------------------------------------------------------------------------\u001b[0m",
      "\u001b[0;31mNameError\u001b[0m                                 Traceback (most recent call last)",
      "Cell \u001b[0;32mIn[12], line 1\u001b[0m\n\u001b[0;32m----> 1\u001b[0m analyst\n",
      "\u001b[0;31mNameError\u001b[0m: name 'analyst' is not defined"
     ]
    }
   ],
   "source": [
    "analyst"
   ]
  },
  {
   "cell_type": "code",
   "execution_count": 13,
   "id": "9ec5100b",
   "metadata": {},
   "outputs": [
    {
     "ename": "NameError",
     "evalue": "name 'AssistantAgent' is not defined",
     "output_type": "error",
     "traceback": [
      "\u001b[0;31m---------------------------------------------------------------------------\u001b[0m",
      "\u001b[0;31mNameError\u001b[0m                                 Traceback (most recent call last)",
      "Cell \u001b[0;32mIn[13], line 6\u001b[0m\n\u001b[1;32m      1\u001b[0m engineer_msg \u001b[38;5;241m=\u001b[39m \u001b[38;5;124mf\u001b[39m\u001b[38;5;124m\"\"\"\u001b[39m\n\u001b[1;32m      2\u001b[0m \u001b[38;5;124mEngineer. You are a Senior Software Engineer that executes the get_prices functions as requested by the Financial Analyst.\u001b[39m\n\u001b[1;32m      3\u001b[0m \u001b[38;5;124m\"\"\"\u001b[39m\n\u001b[0;32m----> 6\u001b[0m engineer \u001b[38;5;241m=\u001b[39m AssistantAgent(\n\u001b[1;32m      7\u001b[0m     name\u001b[38;5;241m=\u001b[39m\u001b[38;5;124m\"\u001b[39m\u001b[38;5;124mengineer_person\u001b[39m\u001b[38;5;124m\"\u001b[39m,\n\u001b[1;32m      8\u001b[0m     system_message\u001b[38;5;241m=\u001b[39mengineer_msg,\n\u001b[1;32m      9\u001b[0m     llm_config\u001b[38;5;241m=\u001b[39mllm_config,\n\u001b[1;32m     10\u001b[0m     function_map\u001b[38;5;241m=\u001b[39m{\u001b[38;5;124m\"\u001b[39m\u001b[38;5;124mget_prices\u001b[39m\u001b[38;5;124m\"\u001b[39m: get_prices},\n\u001b[1;32m     11\u001b[0m     code_execution_config\u001b[38;5;241m=\u001b[39m\u001b[38;5;28;01mFalse\u001b[39;00m,\n\u001b[1;32m     12\u001b[0m )\n",
      "\u001b[0;31mNameError\u001b[0m: name 'AssistantAgent' is not defined"
     ]
    }
   ],
   "source": [
    "engineer_msg = f\"\"\"\n",
    "Engineer. You are a Senior Software Engineer that executes the get_prices functions as requested by the Financial Analyst.\n",
    "\"\"\"\n",
    "\n",
    "\n",
    "engineer = AssistantAgent(\n",
    "    name=\"engineer_person\",\n",
    "    system_message=engineer_msg,\n",
    "    llm_config=llm_config,\n",
    "    function_map={\"get_prices\": get_prices},\n",
    "    code_execution_config=False,\n",
    ")"
   ]
  },
  {
   "cell_type": "code",
   "execution_count": 46,
   "id": "bc309acb",
   "metadata": {},
   "outputs": [
    {
     "data": {
      "text/plain": [
       "<autogen.agentchat.assistant_agent.AssistantAgent at 0x16979edd0>"
      ]
     },
     "execution_count": 46,
     "metadata": {},
     "output_type": "execute_result"
    }
   ],
   "source": [
    "engineer"
   ]
  },
  {
   "cell_type": "code",
   "execution_count": 47,
   "id": "b5eb382d",
   "metadata": {},
   "outputs": [],
   "source": [
    "python_expert_msg = f\"\"\"\n",
    "Python Expert: You are a Senior Python developper with a specialization in creating charts using the\n",
    "seaborn python library. Your job is to develop a stock chart using the closed stock price data supplied\n",
    "by the Senior Financial Analyst.\n",
    "\n",
    "Your responsibility involves:\n",
    "1. Generating comprehensive code, including the actual COMPLETE data, for the Senior Analyst to successfully run the chart.\n",
    "2. Ensuring that the code is prepared for immediate execution, WITHOUT ANY PLACEHOLDERS TEXT or missing data.\n",
    "3. Guaranteeing the seamless integration of the received stock closed price data into the code.\n",
    "4. Structuring the code for execution and utilizing the seaborn library to present the stock chart.\n",
    "\"\"\"\n",
    "\n",
    "\n",
    "pythonexpert = AssistantAgent(\n",
    "    name=\"python_expert_person\",\n",
    "    system_message=python_expert_msg,\n",
    "    code_execution_config=False,  # set to True or image name like \"python:3\" to use docker\n",
    "    llm_config=llm_config,\n",
    ")"
   ]
  },
  {
   "cell_type": "code",
   "execution_count": 48,
   "id": "82745ff7",
   "metadata": {},
   "outputs": [
    {
     "data": {
      "text/plain": [
       "<autogen.agentchat.assistant_agent.AssistantAgent at 0x169788ad0>"
      ]
     },
     "execution_count": 48,
     "metadata": {},
     "output_type": "execute_result"
    }
   ],
   "source": [
    "pythonexpert"
   ]
  },
  {
   "cell_type": "code",
   "execution_count": 49,
   "id": "3a4f3ba2",
   "metadata": {},
   "outputs": [],
   "source": [
    "user_proxy = UserProxyAgent(\n",
    "    name=\"admin\",\n",
    "    system_message=\"\"\"\n",
    "    Human Admin: Let's engage with the analyst to have a discussion about the stock price report. \n",
    "    Please ensure that the final report is shared with me for approval before it's finalized.\n",
    "    \"\"\",\n",
    "    code_execution_config=False,\n",
    "    human_input_mode=\"NEVER\",\n",
    "    is_termination_msg=is_termination_msg,\n",
    ")"
   ]
  },
  {
   "cell_type": "code",
   "execution_count": 50,
   "id": "7879deb3",
   "metadata": {},
   "outputs": [
    {
     "data": {
      "text/plain": [
       "<autogen.agentchat.user_proxy_agent.UserProxyAgent at 0x1697664d0>"
      ]
     },
     "execution_count": 50,
     "metadata": {},
     "output_type": "execute_result"
    }
   ],
   "source": [
    "user_proxy"
   ]
  },
  {
   "cell_type": "code",
   "execution_count": 51,
   "id": "2aeb86c2",
   "metadata": {},
   "outputs": [],
   "source": [
    "groupchat = autogen.GroupChat(\n",
    "    agents=[user_proxy, analyst, pythonexpert, engineer], messages=[], max_round=20\n",
    ")\n",
    "\n",
    "manager = autogen.GroupChatManager(groupchat=groupchat, llm_config=llm_config)"
   ]
  },
  {
   "cell_type": "code",
   "execution_count": 52,
   "id": "44e96931",
   "metadata": {},
   "outputs": [
    {
     "data": {
      "text/plain": [
       "GroupChat(agents=[<autogen.agentchat.user_proxy_agent.UserProxyAgent object at 0x1697664d0>, <autogen.agentchat.assistant_agent.AssistantAgent object at 0x16979ccd0>, <autogen.agentchat.assistant_agent.AssistantAgent object at 0x169788ad0>, <autogen.agentchat.assistant_agent.AssistantAgent object at 0x16979edd0>], messages=[], max_round=20, admin_name='Admin', func_call_filter=True)"
      ]
     },
     "execution_count": 52,
     "metadata": {},
     "output_type": "execute_result"
    }
   ],
   "source": [
    "groupchat"
   ]
  },
  {
   "cell_type": "code",
   "execution_count": 53,
   "id": "9e194589",
   "metadata": {},
   "outputs": [
    {
     "data": {
      "text/plain": [
       "<autogen.agentchat.groupchat.GroupChatManager at 0x169766450>"
      ]
     },
     "execution_count": 53,
     "metadata": {},
     "output_type": "execute_result"
    }
   ],
   "source": [
    "manager"
   ]
  },
  {
   "cell_type": "code",
   "execution_count": null,
   "id": "bc72b3c3",
   "metadata": {},
   "outputs": [],
   "source": []
  },
  {
   "cell_type": "code",
   "execution_count": 54,
   "id": "1038dfa4",
   "metadata": {},
   "outputs": [
    {
     "data": {
      "application/javascript": [
       "OutputArea.auto_scroll_threshold = 9999\n"
      ],
      "text/plain": [
       "<IPython.core.display.Javascript object>"
      ]
     },
     "metadata": {},
     "output_type": "display_data"
    }
   ],
   "source": [
    "%%javascript Python \n",
    "OutputArea.auto_scroll_threshold = 9999"
   ]
  },
  {
   "cell_type": "code",
   "execution_count": 55,
   "id": "834e5bdd",
   "metadata": {},
   "outputs": [
    {
     "name": "stdout",
     "output_type": "stream",
     "text": [
      "\u001b[33madmin\u001b[0m (to chat_manager):\n",
      "\n",
      "\n",
      "Analyze the stock prices for the MICROSOFT company for the last 15 days and generate a chart.\n",
      "\n",
      "\n",
      "--------------------------------------------------------------------------------\n",
      "[autogen.oai.completion: 05-27 20:22:52] {788} WARNING - Completion was provided with a config_list, but the list was empty. Adopting default OpenAI behavior, which reads from the 'model' parameter instead.\n"
     ]
    },
    {
     "name": "stderr",
     "output_type": "stream",
     "text": [
      "WARNING:autogen.oai.completion:Completion was provided with a config_list, but the list was empty. Adopting default OpenAI behavior, which reads from the 'model' parameter instead.\n"
     ]
    },
    {
     "name": "stdout",
     "output_type": "stream",
     "text": [
      "[autogen.oai.completion: 05-27 20:22:53] {788} WARNING - Completion was provided with a config_list, but the list was empty. Adopting default OpenAI behavior, which reads from the 'model' parameter instead.\n"
     ]
    },
    {
     "name": "stderr",
     "output_type": "stream",
     "text": [
      "WARNING:autogen.oai.completion:Completion was provided with a config_list, but the list was empty. Adopting default OpenAI behavior, which reads from the 'model' parameter instead.\n"
     ]
    },
    {
     "name": "stdout",
     "output_type": "stream",
     "text": [
      "\u001b[33manalyst_person\u001b[0m (to chat_manager):\n",
      "\n",
      "\u001b[32m***** Suggested function Call: get_prices *****\u001b[0m\n",
      "Arguments: \n",
      "\n",
      "{\n",
      "  \"days\": 15,\n",
      "  \"symbol\": \"MSFT\"\n",
      "}\n",
      "\u001b[32m***********************************************\u001b[0m\n",
      "\n",
      "--------------------------------------------------------------------------------\n",
      "\u001b[35m\n",
      ">>>>>>>> EXECUTING FUNCTION get_prices...\u001b[0m\n"
     ]
    },
    {
     "name": "stderr",
     "output_type": "stream",
     "text": [
      "\r",
      "[*********************100%%**********************]  1 of 1 completed"
     ]
    },
    {
     "name": "stdout",
     "output_type": "stream",
     "text": [
      "\u001b[33mengineer_person\u001b[0m (to chat_manager):\n",
      "\n",
      "\u001b[32m***** Response from calling function \"get_prices\" *****\u001b[0m\n",
      "Date       Open       High        Low      Close    Volume\n",
      "2024-05-13 418.010010 418.350006 410.820007 413.720001  15440200\n",
      "2024-05-14 412.019989 417.489990 411.549988 416.559998  15109300\n",
      "2024-05-15 417.899994 423.809998 417.269989 423.079987  22239500\n",
      "2024-05-16 421.799988 425.420013 420.350006 420.989990  17530100\n",
      "2024-05-17 422.540009 422.920013 418.029999 420.209991  15352200\n",
      "2024-05-20 420.209991 426.769989 419.989990 425.339996  16272100\n",
      "2024-05-21 426.829987 432.970001 424.850006 429.040009  21453300\n",
      "2024-05-22 430.089996 432.410004 427.130005 430.519989  18073700\n",
      "2024-05-23 432.970001 433.600006 425.420013 427.000000  17211700\n",
      "2024-05-24 427.190002 431.059998 424.410004 430.160004  11845800\n",
      "\u001b[32m*******************************************************\u001b[0m\n",
      "\n",
      "--------------------------------------------------------------------------------\n",
      "[autogen.oai.completion: 05-27 20:22:55] {788} WARNING - Completion was provided with a config_list, but the list was empty. Adopting default OpenAI behavior, which reads from the 'model' parameter instead.\n"
     ]
    },
    {
     "name": "stderr",
     "output_type": "stream",
     "text": [
      "\n",
      "WARNING:autogen.oai.completion:Completion was provided with a config_list, but the list was empty. Adopting default OpenAI behavior, which reads from the 'model' parameter instead.\n"
     ]
    },
    {
     "name": "stdout",
     "output_type": "stream",
     "text": [
      "[autogen.oai.completion: 05-27 20:22:56] {788} WARNING - Completion was provided with a config_list, but the list was empty. Adopting default OpenAI behavior, which reads from the 'model' parameter instead.\n"
     ]
    },
    {
     "name": "stderr",
     "output_type": "stream",
     "text": [
      "WARNING:autogen.oai.completion:Completion was provided with a config_list, but the list was empty. Adopting default OpenAI behavior, which reads from the 'model' parameter instead.\n"
     ]
    },
    {
     "name": "stdout",
     "output_type": "stream",
     "text": [
      "\u001b[33manalyst_person\u001b[0m (to chat_manager):\n",
      "\n",
      "The stock price data for Microsoft (MSFT) for the last 10 trading days is as follows:\n",
      "\n",
      "- On 13th May 2024, the stock opened at $418.01 and closed at $413.72 with a volume of 15,440,200.\n",
      "- On 14th May 2024, the stock opened at $412.02 and closed at $416.56 with a volume of 15,109,300.\n",
      "- On 15th May 2024, the stock opened at $417.90 and closed at $423.08 with a volume of 22,239,500.\n",
      "- On 16th May 2024, the stock opened at $421.80 and closed at $420.99 with a volume of 17,530,100.\n",
      "- On 17th May 2024, the stock opened at $422.54 and closed at $420.21 with a volume of 15,352,200.\n",
      "- On 20th May 2024, the stock opened at $420.21 and closed at $425.34 with a volume of 16,272,100.\n",
      "- On 21st May 2024, the stock opened at $426.83 and closed at $429.04 with a volume of 21,453,300.\n",
      "- On 22nd May 2024, the stock opened at $430.09 and closed at $430.52 with a volume of 18,073,700.\n",
      "- On 23rd May 2024, the stock opened at $432.97 and closed at $427.00 with a volume of 17,211,700.\n",
      "- On 24th May 2024, the stock opened at $427.19 and closed at $430.16 with a volume of 11,845,800.\n",
      "\n",
      "The closing prices show a general upward trend over the period, with some fluctuations. The highest closing price was $430.52 on 22nd May 2024, and the lowest closing price was $413.72 on 13th May 2024.\n",
      "\n",
      "I will now pass this data to the Python designer to create a chart. Please ensure to include only the closing prices in the chart.\n",
      "\n",
      "--------------------------------------------------------------------------------\n",
      "[autogen.oai.completion: 05-27 20:23:16] {788} WARNING - Completion was provided with a config_list, but the list was empty. Adopting default OpenAI behavior, which reads from the 'model' parameter instead.\n"
     ]
    },
    {
     "name": "stderr",
     "output_type": "stream",
     "text": [
      "WARNING:autogen.oai.completion:Completion was provided with a config_list, but the list was empty. Adopting default OpenAI behavior, which reads from the 'model' parameter instead.\n"
     ]
    },
    {
     "name": "stdout",
     "output_type": "stream",
     "text": [
      "[autogen.oai.completion: 05-27 20:23:17] {788} WARNING - Completion was provided with a config_list, but the list was empty. Adopting default OpenAI behavior, which reads from the 'model' parameter instead.\n"
     ]
    },
    {
     "name": "stderr",
     "output_type": "stream",
     "text": [
      "WARNING:autogen.oai.completion:Completion was provided with a config_list, but the list was empty. Adopting default OpenAI behavior, which reads from the 'model' parameter instead.\n"
     ]
    },
    {
     "name": "stdout",
     "output_type": "stream",
     "text": [
      "\u001b[33mpython_expert_person\u001b[0m (to chat_manager):\n",
      "\n",
      "Sure, I will create a Python script using seaborn to visualize the closing prices of Microsoft (MSFT) stock for the last 10 trading days.\n",
      "\n",
      "Here is the Python script:\n",
      "\n",
      "```python\n",
      "import pandas as pd\n",
      "import seaborn as sns\n",
      "import matplotlib.pyplot as plt\n",
      "\n",
      "# Create a dictionary with the date and closing prices\n",
      "data = {\n",
      "    'Date': ['2024-05-13', '2024-05-14', '2024-05-15', '2024-05-16', '2024-05-17', '2024-05-20', '2024-05-21', '2024-05-22', '2024-05-23', '2024-05-24'],\n",
      "    'Close': [413.72, 416.56, 423.08, 420.99, 420.21, 425.34, 429.04, 430.52, 427.00, 430.16]\n",
      "}\n",
      "\n",
      "# Convert the dictionary into a DataFrame\n",
      "df = pd.DataFrame(data)\n",
      "\n",
      "# Convert the 'Date' column to datetime format\n",
      "df['Date'] = pd.to_datetime(df['Date'])\n",
      "\n",
      "# Set the 'Date' column as the index\n",
      "df.set_index('Date', inplace=True)\n",
      "\n",
      "# Create a line plot of the closing prices\n",
      "sns.lineplot(data=df, palette=\"tab10\", linewidth=2.5)\n",
      "\n",
      "# Set the title and labels\n",
      "plt.title('Microsoft (MSFT) Closing Prices')\n",
      "plt.xlabel('Date')\n",
      "plt.ylabel('Closing Price')\n",
      "\n",
      "# Display the plot\n",
      "plt.show()\n",
      "```\n",
      "\n",
      "This script creates a line plot of the closing prices of Microsoft (MSFT) stock for the last 10 trading days. The x-axis represents the date, and the y-axis represents the closing price. The title of the plot is 'Microsoft (MSFT) Closing Prices'.\n",
      "\n",
      "--------------------------------------------------------------------------------\n",
      "[autogen.oai.completion: 05-27 20:23:33] {788} WARNING - Completion was provided with a config_list, but the list was empty. Adopting default OpenAI behavior, which reads from the 'model' parameter instead.\n"
     ]
    },
    {
     "name": "stderr",
     "output_type": "stream",
     "text": [
      "WARNING:autogen.oai.completion:Completion was provided with a config_list, but the list was empty. Adopting default OpenAI behavior, which reads from the 'model' parameter instead.\n"
     ]
    },
    {
     "name": "stdout",
     "output_type": "stream",
     "text": [
      "\u001b[33madmin\u001b[0m (to chat_manager):\n",
      "\n",
      "\n",
      "\n",
      "--------------------------------------------------------------------------------\n",
      "[autogen.oai.completion: 05-27 20:23:34] {788} WARNING - Completion was provided with a config_list, but the list was empty. Adopting default OpenAI behavior, which reads from the 'model' parameter instead.\n"
     ]
    },
    {
     "name": "stderr",
     "output_type": "stream",
     "text": [
      "WARNING:autogen.oai.completion:Completion was provided with a config_list, but the list was empty. Adopting default OpenAI behavior, which reads from the 'model' parameter instead.\n"
     ]
    },
    {
     "name": "stdout",
     "output_type": "stream",
     "text": [
      "[autogen.oai.completion: 05-27 20:23:35] {788} WARNING - Completion was provided with a config_list, but the list was empty. Adopting default OpenAI behavior, which reads from the 'model' parameter instead.\n"
     ]
    },
    {
     "name": "stderr",
     "output_type": "stream",
     "text": [
      "WARNING:autogen.oai.completion:Completion was provided with a config_list, but the list was empty. Adopting default OpenAI behavior, which reads from the 'model' parameter instead.\n"
     ]
    },
    {
     "name": "stdout",
     "output_type": "stream",
     "text": [
      "\u001b[33manalyst_person\u001b[0m (to chat_manager):\n",
      "\n",
      "TERMINATE\n",
      "\n",
      "--------------------------------------------------------------------------------\n",
      "[autogen.oai.completion: 05-27 20:23:36] {788} WARNING - Completion was provided with a config_list, but the list was empty. Adopting default OpenAI behavior, which reads from the 'model' parameter instead.\n"
     ]
    },
    {
     "name": "stderr",
     "output_type": "stream",
     "text": [
      "WARNING:autogen.oai.completion:Completion was provided with a config_list, but the list was empty. Adopting default OpenAI behavior, which reads from the 'model' parameter instead.\n"
     ]
    }
   ],
   "source": [
    "message = f\"\"\"\n",
    "Analyze the stock prices for the MICROSOFT company for the last 15 days and generate a chart.\n",
    "\"\"\"\n",
    "\n",
    "user_proxy.initiate_chat(manager, clear_history=True, message=message)"
   ]
  },
  {
   "cell_type": "code",
   "execution_count": 57,
   "id": "e4769a6a",
   "metadata": {},
   "outputs": [
    {
     "data": {
      "image/png": "[encoded data removed]",
      "text/plain": [
       "<Figure size 640x480 with 1 Axes>"
      ]
     },
     "metadata": {},
     "output_type": "display_data"
    }
   ],
   "source": [
    "import pandas as pd\n",
    "import seaborn as sns\n",
    "import matplotlib.pyplot as plt\n",
    "\n",
    "# Create a dictionary with the date and closing prices\n",
    "data = {\n",
    "    'Date': ['2024-05-13', '2024-05-14', '2024-05-15', '2024-05-16', '2024-05-17', '2024-05-20', '2024-05-21', '2024-05-22', '2024-05-23', '2024-05-24'],\n",
    "    'Close': [413.72, 416.56, 423.08, 420.99, 420.21, 425.34, 429.04, 430.52, 427.00, 430.16]\n",
    "}\n",
    "\n",
    "# Convert the dictionary into a DataFrame\n",
    "df = pd.DataFrame(data)\n",
    "\n",
    "# Convert the 'Date' column to datetime format\n",
    "df['Date'] = pd.to_datetime(df['Date'])\n",
    "\n",
    "# Set the 'Date' column as the index\n",
    "df.set_index('Date', inplace=True)\n",
    "\n",
    "# Create a line plot of the closing prices\n",
    "sns.lineplot(data=df, palette=\"tab10\", linewidth=2.5)\n",
    "\n",
    "# Set the title and labels\n",
    "plt.title('Microsoft (MSFT) Closing Prices')\n",
    "plt.xlabel('Date')\n",
    "plt.ylabel('Closing Price')\n",
    "\n",
    "# Display the plot\n",
    "plt.show()"
   ]
  },
  {
   "cell_type": "code",
   "execution_count": null,
   "id": "0b9c5b7a",
   "metadata": {},
   "outputs": [],
   "source": []
  },
  {
   "cell_type": "code",
   "execution_count": null,
   "id": "3baba675",
   "metadata": {},
   "outputs": [],
   "source": []
  },
  {
   "cell_type": "code",
   "execution_count": null,
   "id": "09aee2ad",
   "metadata": {},
   "outputs": [],
   "source": []
  }
 ],
 "metadata": {
  "kernelspec": {
   "display_name": "Python 3 (ipykernel)",
   "language": "python",
   "name": "python3"
  },
  "language_info": {
   "codemirror_mode": {
    "name": "ipython",
    "version": 3
   },
   "file_extension": ".py",
   "mimetype": "text/x-python",
   "name": "python",
   "nbconvert_exporter": "python",
   "pygments_lexer": "ipython3",
   "version": "3.11.5"
  }
 },
 "nbformat": 4,
 "nbformat_minor": 5
}
